{
 "cells": [
  {
   "cell_type": "markdown",
   "id": "dfe16343",
   "metadata": {},
   "source": [
    "# 1. Fill the missing pieces\n",
    "Fill the `____` parts in the code below."
   ]
  },
  {
   "cell_type": "code",
   "execution_count": 1,
   "id": "915bd5b8",
   "metadata": {},
   "outputs": [],
   "source": [
    "words = ['PYTHON', 'JOHN', 'chEEse', 'hAm', 'DOE', '123']\n",
    "upper_case_words = []\n",
    "\n",
    "for word in words:\n",
    "    if word.isupper():\n",
    "        upper_case_words.append(word)"
   ]
  },
  {
   "cell_type": "code",
   "execution_count": 2,
   "id": "21dc3ae9",
   "metadata": {
    "editable": false
   },
   "outputs": [],
   "source": [
    "assert upper_case_words == ['PYTHON', 'JOHN', 'DOE']"
   ]
  },
  {
   "cell_type": "markdown",
   "id": "fdb12d29",
   "metadata": {},
   "source": [
    "# 2. Calculate the sum of dict values\n",
    "Calculate the sum of the values in `magic_dict` by taking only into account numeric values (hint: see [isinstance](https://docs.python.org/3/library/functions.html#isinstance)). "
   ]
  },
  {
   "cell_type": "code",
   "execution_count": 3,
   "id": "841560a2",
   "metadata": {
    "editable": false
   },
   "outputs": [],
   "source": [
    "magic_dict = dict(val1=44, val2='secret value', val3=55.0, val4=1)"
   ]
  },
  {
   "cell_type": "code",
   "execution_count": 8,
   "id": "d13965f2",
   "metadata": {},
   "outputs": [],
   "source": [
    "# Your implementation\n",
    "sum_of_values = sum([v for v in magic_dict.values() if not isinstance(v, str)])"
   ]
  },
  {
   "cell_type": "code",
   "execution_count": 9,
   "id": "1e88f087",
   "metadata": {
    "editable": false
   },
   "outputs": [],
   "source": [
    "assert sum_of_values == 100"
   ]
  },
  {
   "cell_type": "markdown",
   "id": "3495568d",
   "metadata": {},
   "source": [
    "# 3. Create a list of strings based on a list of numbers\n",
    "The rules:\n",
    "* If the number is a multiple of five and odd, the string should be `'five odd'`\n",
    "* If the number is a multiple of five and even, the string should be `'five even'`\n",
    "* If the number is odd, the string is `'odd'`\n",
    "* If the number is even, the string is `'even'`"
   ]
  },
  {
   "cell_type": "code",
   "execution_count": 10,
   "id": "a5f06711",
   "metadata": {
    "editable": false
   },
   "outputs": [],
   "source": [
    "numbers = [1, 3, 4, 6, 81, 80, 100, 95]"
   ]
  },
  {
   "cell_type": "code",
   "execution_count": 11,
   "id": "d63d4d96",
   "metadata": {},
   "outputs": [],
   "source": [
    "# Your implementation\n",
    "my_list = []\n",
    "for n in numbers:\n",
    "    new_string = \"\"\n",
    "    if n%5==0:\n",
    "        new_string += \"five \"\n",
    "    if n%2==0:\n",
    "        new_string += \"even\"\n",
    "    else:\n",
    "        new_string += \"odd\"\n",
    "    my_list.append(new_string)"
   ]
  },
  {
   "cell_type": "code",
   "execution_count": 12,
   "id": "8a1815ed",
   "metadata": {
    "editable": false
   },
   "outputs": [],
   "source": [
    "assert my_list == ['odd', 'odd', 'even', 'even', 'odd', 'five even', 'five even', 'five odd']"
   ]
  }
 ],
 "metadata": {
  "kernelspec": {
   "display_name": "Python 3 (ipykernel)",
   "language": "python",
   "name": "python3"
  },
  "language_info": {
   "codemirror_mode": {
    "name": "ipython",
    "version": 3
   },
   "file_extension": ".py",
   "mimetype": "text/x-python",
   "name": "python",
   "nbconvert_exporter": "python",
   "pygments_lexer": "ipython3",
   "version": "3.9.13"
  }
 },
 "nbformat": 4,
 "nbformat_minor": 5
}
