{
  "cells": [
    {
      "cell_type": "markdown",
      "metadata": {
        "id": "view-in-github",
        "colab_type": "text"
      },
      "source": [
        "<a href=\"https://colab.research.google.com/github/Stravanni/metodi_quantitativi_e_computer_science/blob/main/Prova_01_no_solution.ipynb\" target=\"_parent\"><img src=\"https://colab.research.google.com/assets/colab-badge.svg\" alt=\"Open In Colab\"/></a>"
      ]
    },
    {
      "cell_type": "markdown",
      "id": "ebbcc4bb",
      "metadata": {
        "deletable": false,
        "editable": false,
        "id": "ebbcc4bb"
      },
      "source": [
        "# Prova di coding del corso di MQ & CS"
      ]
    },
    {
      "cell_type": "code",
      "execution_count": null,
      "id": "79111f09",
      "metadata": {
        "deletable": false,
        "editable": false,
        "id": "79111f09"
      },
      "outputs": [],
      "source": [
        "import numpy as np\n",
        "np.random.seed(12345)\n",
        "\n",
        "import pandas as pd\n",
        "\n",
        "# {\n",
        "#   \"trusted\": false,\n",
        "#   \"editable\": false,\n",
        "#    \"deletable\": false\n",
        "# }"
      ]
    },
    {
      "cell_type": "markdown",
      "id": "5ac25f6a",
      "metadata": {
        "id": "5ac25f6a"
      },
      "source": [
        "## Esercizio 1\n",
        "Creare una funzione `myMatMul` che:\n",
        "0. prenda in input due numpy array\n",
        "1. verifichi che tutti e due siano matrici\n",
        "    - se non sono matrici deve ritornare `None` terminare l'esecuzione\n",
        "2. verifichi che le due matrici siano di dimensioni corrette per essere moltipicate (moltiplicazione tra matrici)\n",
        "    - se non sono di dimensioni compatibili per la moltiplicazione deve ritornare `None`\n",
        "3. ritorni il valore della moltiplicazoine di matrici"
      ]
    },
    {
      "cell_type": "code",
      "execution_count": null,
      "id": "fd0cd02f",
      "metadata": {
        "id": "fd0cd02f"
      },
      "outputs": [],
      "source": [
        "'''\n",
        "MODIFICARE\n",
        "'''\n",
        "def myMatMul(A, B):\n",
        "    ..."
      ]
    },
    {
      "cell_type": "code",
      "execution_count": null,
      "id": "1668cf72",
      "metadata": {
        "id": "1668cf72"
      },
      "outputs": [],
      "source": [
        "A = [[1, 2, 3, 4], [5, 6, 7, 8]]\n",
        "A = np.array(A)\n",
        "B = [[1, 2, 3, 4], [5, 6, 7, 8]]\n",
        "B = np.array(B)\n",
        "R = np.array([[ 30,  70],[ 70, 174]])"
      ]
    },
    {
      "cell_type": "code",
      "execution_count": null,
      "id": "3db26c21",
      "metadata": {
        "id": "3db26c21"
      },
      "outputs": [],
      "source": [
        "assert myMatMul(A,B[1])==None"
      ]
    },
    {
      "cell_type": "code",
      "execution_count": null,
      "id": "71c2b057",
      "metadata": {
        "id": "71c2b057"
      },
      "outputs": [],
      "source": [
        "assert myMatMul(A,B)==None"
      ]
    },
    {
      "cell_type": "code",
      "execution_count": null,
      "id": "4d6417c8",
      "metadata": {
        "id": "4d6417c8"
      },
      "outputs": [],
      "source": [
        "assert np.all(np.equal(R,myMatMul(A,B.transpose())))"
      ]
    },
    {
      "cell_type": "markdown",
      "id": "9a988034",
      "metadata": {
        "id": "9a988034"
      },
      "source": [
        "## Esercizio 2\n",
        "Scrivere una funzione `findSimilar` che prenda:\n",
        "0. prenda in input un pandas dataframe, un numero di riga e un numero di colonna\n",
        "1. verifichi che la cella corrispondente al numero di riga e di colonna non sia nulla\n",
        "2. se non è nulla, stampi a video la cella corrispondente al numero di riga e di colonna\n",
        "3. ritorni il numero di righe che hanno quello stesso valore in quella colonna"
      ]
    },
    {
      "cell_type": "code",
      "execution_count": null,
      "id": "7d38d5ee",
      "metadata": {
        "id": "7d38d5ee"
      },
      "outputs": [],
      "source": [
        "def findSimilar(df, row, column):\n",
        "    ..."
      ]
    },
    {
      "cell_type": "code",
      "execution_count": null,
      "id": "f11eb29f",
      "metadata": {
        "id": "f11eb29f",
        "outputId": "89072973-6989-4a1b-d617-5e27a93aa3f0"
      },
      "outputs": [
        {
          "name": "stdout",
          "output_type": "stream",
          "text": [
            "2\n",
            "2\n"
          ]
        }
      ],
      "source": [
        "df = pd.DataFrame({'A': [1, 2, 3], 'B': [2, 2, 3], 'C': [3, 3, 1], 'D': [None, 3, 1]})\n",
        "similar_rows = findSimilar(df, 0, 1)\n",
        "print(similar_rows)"
      ]
    },
    {
      "cell_type": "markdown",
      "id": "08cbf8e3",
      "metadata": {
        "id": "08cbf8e3"
      },
      "source": [
        "## Esercizio 3\n",
        "Scrivere una funzione python `myFunctionDF(df, option)` che prenda in input un pandas dataframe, le cui colonne sono 'citta', 'regione' e 'vendite'.\n",
        "\n",
        "La funzione `myFunctionDF` deve poi ritornare risultati diversi a seconda del secondo parametro `option`:\n",
        "1. Se `option == \"sumCittà\"` la funzine deve ritornare un dataframe che abbia come indice `citta` e `regione` e una colonna che abbia come valori il numero totale di vendite per ogni città\n",
        "2. Se `option == \"avgRegione\"` la funzine deve ritornare un dataframe che abbia come indice solo `regione` e una colonna che abbia come valori il numero medio di vendite per ogni città\n",
        "3. Se `option == \"fix_100\"` la funzine deve ritornare un dataframe come quello preso in input con la seguente modifica: se un valore della cella vendite è minore di `100` deve essere sostituito con la media dei valori delle vendite di quella città.\n",
        "4. se `option` non è passato alla funzione (i.e., None), la funzione ritorna il dataframe così com'è"
      ]
    },
    {
      "cell_type": "code",
      "execution_count": null,
      "id": "34af7c40",
      "metadata": {
        "id": "34af7c40"
      },
      "outputs": [],
      "source": [
        "def myFunctionDF(df, option=None):\n",
        "    ..."
      ]
    },
    {
      "cell_type": "code",
      "execution_count": null,
      "id": "6f2e00ec",
      "metadata": {
        "id": "6f2e00ec"
      },
      "outputs": [],
      "source": [
        "df = pd.DataFrame({'citta': ['Modena', 'Bologna', 'Firenze', 'Bologna','Modena', 'Bologna', 'Modena', 'Firenze'],\n",
        "                   'regione': ['ER', 'ER', 'TO', 'ER','ER', 'ER', 'ER', 'TO'],\n",
        "                   'vendite': [700, 12, 500, 400, 12, 600, 700, 500]})"
      ]
    },
    {
      "cell_type": "code",
      "execution_count": null,
      "id": "4ef6b807",
      "metadata": {
        "id": "4ef6b807"
      },
      "outputs": [],
      "source": [
        "df_c = pd.DataFrame({'citta': ['Bologna', 'Firenze', 'Modena'],\n",
        "                   'regione': ['ER', 'TO', 'ER'],\n",
        "                   'vendite': [1012, 1000,1412]})\n",
        "df_c1 = df_c.set_index(['citta','regione'])\n",
        "dd = myFunctionDF(df, \"sumCittà\")\n",
        "assert np.all(df_c1==dd)"
      ]
    },
    {
      "cell_type": "code",
      "execution_count": null,
      "id": "f437b744",
      "metadata": {
        "id": "f437b744"
      },
      "outputs": [],
      "source": [
        "df_c = pd.DataFrame({'regione': ['ER', 'TO'],'vendite': [404, 500]})\n",
        "df_c2 = df_c.set_index(['regione'])\n",
        "dd = myFunctionDF(df, \"avgRegione\")\n",
        "assert np.all(df_c2==dd)"
      ]
    },
    {
      "cell_type": "code",
      "execution_count": null,
      "id": "33f0216f",
      "metadata": {
        "id": "33f0216f"
      },
      "outputs": [],
      "source": [
        "df_c3 = pd.DataFrame({'citta': ['Modena', 'Bologna', 'Firenze', 'Bologna','Modena', 'Bologna', 'Modena', 'Firenze'],\n",
        "                   'regione': ['ER', 'ER', 'TO', 'ER','ER', 'ER', 'ER', 'TO'],\n",
        "                   'vendite': [700, 428, 500, 400, 428, 600, 700, 500]})\n",
        "dd = myFunctionDF(df,\"fix_100\")\n",
        "assert np.all(df_c3==dd)"
      ]
    },
    {
      "cell_type": "code",
      "execution_count": null,
      "id": "980b4249",
      "metadata": {
        "id": "980b4249"
      },
      "outputs": [],
      "source": [
        "dd = myFunctionDF(df)\n",
        "assert np.all(myFunctionDF(df)==dd)"
      ]
    },
    {
      "cell_type": "code",
      "execution_count": null,
      "id": "a35a6990",
      "metadata": {
        "id": "a35a6990"
      },
      "outputs": [],
      "source": []
    },
    {
      "cell_type": "code",
      "execution_count": null,
      "id": "d55e693a",
      "metadata": {
        "id": "d55e693a"
      },
      "outputs": [],
      "source": []
    }
  ],
  "metadata": {
    "celltoolbar": "Edit Metadata",
    "kernelspec": {
      "display_name": "Python 3",
      "language": "python",
      "name": "python3"
    },
    "language_info": {
      "codemirror_mode": {
        "name": "ipython",
        "version": 3
      },
      "file_extension": ".py",
      "mimetype": "text/x-python",
      "name": "python",
      "nbconvert_exporter": "python",
      "pygments_lexer": "ipython3",
      "version": "3.7.13"
    },
    "colab": {
      "provenance": [],
      "include_colab_link": true
    }
  },
  "nbformat": 4,
  "nbformat_minor": 5
}