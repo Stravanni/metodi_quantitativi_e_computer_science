{
 "cells": [
  {
   "cell_type": "markdown",
   "metadata": {},
   "source": [
    "# [Modules and packages](https://docs.python.org/3/tutorial/modules.html#modules)\n",
    "\n",
    "We now know a bit of Python, we can do a lot of stuff.\n",
    "But Jupyter notebook can become messy.\n",
    "For instance, say that you have written your functions for:\n",
    "- modify the strings that you are reding from a file\n",
    "- modify the csv files that your database is generating\n",
    "- write to file a report of the analysis of your dataset\n",
    "\n",
    "Wouldn't be nice to have something to better organize our code, and not just cells in a notebook?\n",
    "\n",
    "#### modules\n",
    "\n",
    "- Module is a Python source code file, i.e.. a file with .py extension.\n",
    "\n",
    "- Package is a directory which contains `__init__.py` file and can contain python modules and other packages.  \n"
   ]
  },
  {
   "cell_type": "markdown",
   "metadata": {},
   "source": [
    "## Why to organize your code into modules and packages\n",
    "* Maintainability\n",
    "* Reusability\n",
    "* Namespacing\n",
    "* People unfamiliar with your project can get a clear overview just by looking at the directory structure of your project\n",
    "* Searching for certain functionality or class is easy"
   ]
  },
  {
   "cell_type": "markdown",
   "metadata": {},
   "source": [
    "## How to use\n",
    "\n",
    "Let's use the following directory structure as an example:\n",
    "\n",
    "      \n",
    "```\n",
    "my_lib/\n",
    "    __init__.py\n",
    "\n",
    "    string/\n",
    "        __init__.py\n",
    "        title.py\n",
    "\n",
    "    geometry/\n",
    "        __init__.py\n",
    "        coordinates.py\n",
    "        polygon.py\n",
    "\n",
    "```\n",
    "\n",
    "\n",
    "Let's consider that banana.py file contains:"
   ]
  },
  {
   "cell_type": "code",
   "execution_count": 1,
   "metadata": {},
   "outputs": [],
   "source": [
    "from my_lib import *"
   ]
  },
  {
   "cell_type": "code",
   "execution_count": 2,
   "metadata": {},
   "outputs": [],
   "source": [
    "from my_lib.string import *"
   ]
  },
  {
   "cell_type": "code",
   "execution_count": 3,
   "metadata": {},
   "outputs": [],
   "source": [
    "from my_lib.string.title import title"
   ]
  },
  {
   "cell_type": "code",
   "execution_count": 4,
   "metadata": {},
   "outputs": [
    {
     "data": {
      "text/plain": [
       "'This Will Be The Title'"
      ]
     },
     "execution_count": 4,
     "metadata": {},
     "output_type": "execute_result"
    }
   ],
   "source": [
    "title(\"this will be the title\")"
   ]
  },
  {
   "cell_type": "markdown",
   "metadata": {},
   "source": [
    "### Geometry example"
   ]
  },
  {
   "cell_type": "code",
   "execution_count": 24,
   "metadata": {},
   "outputs": [],
   "source": [
    "from my_lib.geometry.coordinates import Coordinate\n",
    "from my_lib.geometry.polygon import Triangle"
   ]
  },
  {
   "cell_type": "code",
   "execution_count": 25,
   "metadata": {},
   "outputs": [],
   "source": [
    "a = Coordinate(0,0)\n",
    "b = Coordinate(-2,2)\n",
    "c = Coordinate(2,2)"
   ]
  },
  {
   "cell_type": "code",
   "execution_count": 26,
   "metadata": {},
   "outputs": [],
   "source": [
    "eq = Triangle(a,b,c)"
   ]
  },
  {
   "cell_type": "code",
   "execution_count": 27,
   "metadata": {},
   "outputs": [
    {
     "data": {
      "text/plain": [
       "4.0"
      ]
     },
     "execution_count": 27,
     "metadata": {},
     "output_type": "execute_result"
    }
   ],
   "source": [
    "eq.get_area()"
   ]
  },
  {
   "cell_type": "code",
   "execution_count": 28,
   "metadata": {},
   "outputs": [],
   "source": [
    "# # try this\n",
    "# a = Coordinate(0,0.2)"
   ]
  },
  {
   "cell_type": "markdown",
   "metadata": {},
   "source": [
    "## Exercize\n",
    "- Create a module `number` for:\n",
    "    1. `is_primt()`: check if a number is a prime numebr:\n",
    "        - brute force is ok: skip 0 and 1, and check if the number can be divided by any of the numbers lower than it"
   ]
  },
  {
   "cell_type": "code",
   "execution_count": null,
   "metadata": {},
   "outputs": [],
   "source": []
  }
 ],
 "metadata": {
  "kernelspec": {
   "display_name": "Python 3 (ipykernel)",
   "language": "python",
   "name": "python3"
  },
  "language_info": {
   "codemirror_mode": {
    "name": "ipython",
    "version": 3
   },
   "file_extension": ".py",
   "mimetype": "text/x-python",
   "name": "python",
   "nbconvert_exporter": "python",
   "pygments_lexer": "ipython3",
   "version": "3.9.13"
  }
 },
 "nbformat": 4,
 "nbformat_minor": 2
}
