{
  "nbformat": 4,
  "nbformat_minor": 0,
  "metadata": {
    "colab": {
      "provenance": [],
      "collapsed_sections": [],
      "authorship_tag": "ABX9TyM4wJS2ayj3LBFvNV5aGf0C",
      "include_colab_link": true
    },
    "kernelspec": {
      "name": "python3",
      "display_name": "Python 3"
    },
    "language_info": {
      "name": "python"
    }
  },
  "cells": [
    {
      "cell_type": "markdown",
      "metadata": {
        "id": "view-in-github",
        "colab_type": "text"
      },
      "source": [
        "<a href=\"https://colab.research.google.com/github/Stravanni/metodi_quantitativi_e_computer_science/blob/main/Verifica_01_Esercizi_Python.ipynb\" target=\"_parent\"><img src=\"https://colab.research.google.com/assets/colab-badge.svg\" alt=\"Open In Colab\"/></a>"
      ]
    },
    {
      "cell_type": "markdown",
      "source": [
        "# Esercizi di assessment delle conoscenze di Python"
      ],
      "metadata": {
        "id": "w40nFu-R8-Tb"
      }
    },
    {
      "cell_type": "markdown",
      "source": [
        "## Variabili"
      ],
      "metadata": {
        "id": "nsxjI5Qs952F"
      }
    },
    {
      "cell_type": "markdown",
      "source": [
        "- Definire due variabili `a` e `b` con valore `7` e `8` e scambiare il valore"
      ],
      "metadata": {
        "id": "1xx4RW5Q-DE-"
      }
    },
    {
      "cell_type": "code",
      "execution_count": null,
      "metadata": {
        "colab": {
          "base_uri": "https://localhost:8080/"
        },
        "id": "6_C85t7l86sL",
        "outputId": "757a6105-e661-4244-8b31-0f978d71c33a"
      },
      "outputs": [
        {
          "output_type": "execute_result",
          "data": {
            "text/plain": [
              "(8, 7)"
            ]
          },
          "metadata": {},
          "execution_count": 6
        }
      ],
      "source": [
        "a = 7\n",
        "b = 8\n",
        "\n",
        "tmp = a\n",
        "a = b\n",
        "b = tmp\n",
        "\n",
        "a,b"
      ]
    },
    {
      "cell_type": "code",
      "source": [
        "# oppure\n",
        "a = 7\n",
        "b = 8\n",
        "\n",
        "a,b = b,a\n",
        "\n",
        "a,b"
      ],
      "metadata": {
        "colab": {
          "base_uri": "https://localhost:8080/"
        },
        "id": "HSpTZ72Z9E_E",
        "outputId": "49ab7d60-b1d8-4255-e64f-8c1f172dbe6e"
      },
      "execution_count": null,
      "outputs": [
        {
          "output_type": "execute_result",
          "data": {
            "text/plain": [
              "(8, 7)"
            ]
          },
          "metadata": {},
          "execution_count": 7
        }
      ]
    },
    {
      "cell_type": "markdown",
      "source": [
        "- trasformare `s` in un intero e verificare che il nuovo tipo sia `int`"
      ],
      "metadata": {
        "id": "ffEMXqeo-c9v"
      }
    },
    {
      "cell_type": "code",
      "source": [
        "s = \"1\""
      ],
      "metadata": {
        "id": "7XJU-rvQ-bp8"
      },
      "execution_count": null,
      "outputs": []
    },
    {
      "cell_type": "code",
      "source": [
        "s = int(s)\n",
        "assert(type(s)==int)"
      ],
      "metadata": {
        "id": "8-PxcjOD-0gZ"
      },
      "execution_count": null,
      "outputs": []
    },
    {
      "cell_type": "markdown",
      "source": [
        "- definire una variabile con tipo di dato **scalare** e un'altra con tipo di dato **non scalare**"
      ],
      "metadata": {
        "id": "WnsYWlVh_CPY"
      }
    },
    {
      "cell_type": "code",
      "source": [
        "scalar_variable = 1\n",
        "non_scalar_variable = [1]"
      ],
      "metadata": {
        "id": "nbM_KRZW-2OX"
      },
      "execution_count": null,
      "outputs": []
    },
    {
      "cell_type": "markdown",
      "source": [
        "- Dati due numeri inserire in tre variabili:\n",
        "  - risultato della divisione per interi (senza resto)\n",
        "  - il resto \n",
        "  - risultato della divisione (con virgola)\n",
        "  "
      ],
      "metadata": {
        "id": "fzc8vGdJ_Tsi"
      }
    },
    {
      "cell_type": "code",
      "source": [
        "a = 7\n",
        "b = 5"
      ],
      "metadata": {
        "id": "z75g1312_RqH"
      },
      "execution_count": null,
      "outputs": []
    },
    {
      "cell_type": "code",
      "source": [
        "divisine_intero = a//b\n",
        "divisine_resto = a%b\n",
        "divisione = a/b\n",
        "\n",
        "divisine_intero, divisine_resto, divisione"
      ],
      "metadata": {
        "colab": {
          "base_uri": "https://localhost:8080/"
        },
        "id": "Zaw7BNTs_7Xh",
        "outputId": "7b1df2aa-424d-48bd-806a-84dcb3d1656b"
      },
      "execution_count": null,
      "outputs": [
        {
          "output_type": "execute_result",
          "data": {
            "text/plain": [
              "(1, 2, 1.4)"
            ]
          },
          "metadata": {},
          "execution_count": 24
        }
      ]
    },
    {
      "cell_type": "markdown",
      "source": [
        "## Stringhe"
      ],
      "metadata": {
        "id": "1pL61lqFAt35"
      }
    },
    {
      "cell_type": "markdown",
      "source": [
        "- calcolare la lunghezza di una stringa"
      ],
      "metadata": {
        "id": "HUBemP5oAwOJ"
      }
    },
    {
      "cell_type": "code",
      "source": [
        "s = \"sono una string\"\n",
        "len(s)"
      ],
      "metadata": {
        "colab": {
          "base_uri": "https://localhost:8080/"
        },
        "id": "99UVQSaHAL-X",
        "outputId": "2b98c945-f407-4b88-d6b6-12349f55d81d"
      },
      "execution_count": null,
      "outputs": [
        {
          "output_type": "execute_result",
          "data": {
            "text/plain": [
              "15"
            ]
          },
          "metadata": {},
          "execution_count": 26
        }
      ]
    },
    {
      "cell_type": "markdown",
      "source": [
        "- unire due stringhe in modo che siano leggibili (con il corretto spaziamento tra le parole)"
      ],
      "metadata": {
        "id": "bYvjBWW_A5Aj"
      }
    },
    {
      "cell_type": "code",
      "source": [
        "s1 = \"sono una\"\n",
        "s2 = \"string intera\"\n",
        "s1 + ' ' + s2"
      ],
      "metadata": {
        "colab": {
          "base_uri": "https://localhost:8080/",
          "height": 37
        },
        "id": "TOoXPcV2A2D0",
        "outputId": "c3b72a85-0ecd-45bd-a7f4-175c94eb8967"
      },
      "execution_count": null,
      "outputs": [
        {
          "output_type": "execute_result",
          "data": {
            "text/plain": [
              "'sono una string intera'"
            ],
            "application/vnd.google.colaboratory.intrinsic+json": {
              "type": "string"
            }
          },
          "metadata": {},
          "execution_count": 44
        }
      ]
    },
    {
      "cell_type": "code",
      "source": [
        "# oppure \n",
        "' '.join([s1,s2])"
      ],
      "metadata": {
        "colab": {
          "base_uri": "https://localhost:8080/",
          "height": 37
        },
        "id": "-mYD-jjkA_1i",
        "outputId": "bee68b7b-811a-4564-fdc1-253498229650"
      },
      "execution_count": null,
      "outputs": [
        {
          "output_type": "execute_result",
          "data": {
            "text/plain": [
              "'sono una string intera'"
            ],
            "application/vnd.google.colaboratory.intrinsic+json": {
              "type": "string"
            }
          },
          "metadata": {},
          "execution_count": 45
        }
      ]
    },
    {
      "cell_type": "markdown",
      "source": [
        "- sostituire l'underscore `\"_\"` con lo spazio `\" \"`"
      ],
      "metadata": {
        "id": "ABxMP3o9BzNV"
      }
    },
    {
      "cell_type": "code",
      "source": [
        "s = \"sono_una_string\"\n",
        "s.replace(\"_\",\" \")"
      ],
      "metadata": {
        "colab": {
          "base_uri": "https://localhost:8080/",
          "height": 37
        },
        "id": "JHNQTyS7BCgL",
        "outputId": "986a64a1-bfcb-4c6e-986b-921a3f36f4e5"
      },
      "execution_count": null,
      "outputs": [
        {
          "output_type": "execute_result",
          "data": {
            "text/plain": [
              "'sono una string'"
            ],
            "application/vnd.google.colaboratory.intrinsic+json": {
              "type": "string"
            }
          },
          "metadata": {},
          "execution_count": 47
        }
      ]
    },
    {
      "cell_type": "markdown",
      "source": [
        "- Rendere la stringa (con una sola riga di codice per caso):\n",
        "1. minuscola\n",
        "2. maiuscola\n",
        "3. minustola, senza spazi aggiuntivi all'inizio e alla fine e sostituendo la parola  `\"male\"` con la parola `\"bene\"`"
      ],
      "metadata": {
        "id": "dwIo1Wg_CGsP"
      }
    },
    {
      "cell_type": "code",
      "source": [
        "s = \" sono unA STinga ScrIttA maLe!   \""
      ],
      "metadata": {
        "id": "hk3pewNwCFAS"
      },
      "execution_count": null,
      "outputs": []
    },
    {
      "cell_type": "code",
      "source": [
        "s.lower()"
      ],
      "metadata": {
        "colab": {
          "base_uri": "https://localhost:8080/",
          "height": 37
        },
        "id": "xNM-b4YxCh0x",
        "outputId": "ad057cb8-360e-4ba8-f878-6e9d9a155fd9"
      },
      "execution_count": null,
      "outputs": [
        {
          "output_type": "execute_result",
          "data": {
            "text/plain": [
              "' sono una stinga scritta male!   '"
            ],
            "application/vnd.google.colaboratory.intrinsic+json": {
              "type": "string"
            }
          },
          "metadata": {},
          "execution_count": 53
        }
      ]
    },
    {
      "cell_type": "code",
      "source": [
        "s.upper()"
      ],
      "metadata": {
        "colab": {
          "base_uri": "https://localhost:8080/",
          "height": 37
        },
        "id": "ODGxBRLlCi84",
        "outputId": "1b047a4c-853d-4f6e-de50-8034c3654e29"
      },
      "execution_count": null,
      "outputs": [
        {
          "output_type": "execute_result",
          "data": {
            "text/plain": [
              "' SONO UNA STINGA SCRITTA MALE!   '"
            ],
            "application/vnd.google.colaboratory.intrinsic+json": {
              "type": "string"
            }
          },
          "metadata": {},
          "execution_count": 54
        }
      ]
    },
    {
      "cell_type": "code",
      "source": [
        "s.lower().strip().replace(\"male\",\"bene\")"
      ],
      "metadata": {
        "colab": {
          "base_uri": "https://localhost:8080/",
          "height": 37
        },
        "id": "t0O5SOc8CnBp",
        "outputId": "2fa2c0bb-1782-4091-a0b5-1c681198a281"
      },
      "execution_count": null,
      "outputs": [
        {
          "output_type": "execute_result",
          "data": {
            "text/plain": [
              "'sono una stinga scritta bene!'"
            ],
            "application/vnd.google.colaboratory.intrinsic+json": {
              "type": "string"
            }
          },
          "metadata": {},
          "execution_count": 55
        }
      ]
    },
    {
      "cell_type": "markdown",
      "source": [
        "- scrivere una string al contrario"
      ],
      "metadata": {
        "id": "IWl74jEQC0BZ"
      }
    },
    {
      "cell_type": "code",
      "source": [
        "s = \"scritta al contrario\""
      ],
      "metadata": {
        "id": "QK2smEUXCy2-"
      },
      "execution_count": null,
      "outputs": []
    },
    {
      "cell_type": "code",
      "source": [
        "s[::-1]"
      ],
      "metadata": {
        "colab": {
          "base_uri": "https://localhost:8080/",
          "height": 37
        },
        "id": "HzTwUwEVC6Ws",
        "outputId": "613e670f-e2a6-4287-aa4a-a03f2c6917c8"
      },
      "execution_count": null,
      "outputs": [
        {
          "output_type": "execute_result",
          "data": {
            "text/plain": [
              "'oirartnoc la attircs'"
            ],
            "application/vnd.google.colaboratory.intrinsic+json": {
              "type": "string"
            }
          },
          "metadata": {},
          "execution_count": 64
        }
      ]
    },
    {
      "cell_type": "markdown",
      "source": [
        "- selezionare la prima parola di una stringa"
      ],
      "metadata": {
        "id": "JNjsbR3LDNcR"
      }
    },
    {
      "cell_type": "code",
      "source": [
        "s = \"prima la prarola\""
      ],
      "metadata": {
        "id": "sy6gj_tqC7eh"
      },
      "execution_count": null,
      "outputs": []
    },
    {
      "cell_type": "code",
      "source": [
        "s.split()[0]"
      ],
      "metadata": {
        "colab": {
          "base_uri": "https://localhost:8080/",
          "height": 37
        },
        "id": "XGKYzG9mDY_e",
        "outputId": "f3ff8dc5-e3a8-4bca-c4f1-6518aadc261d"
      },
      "execution_count": null,
      "outputs": [
        {
          "output_type": "execute_result",
          "data": {
            "text/plain": [
              "'prima'"
            ],
            "application/vnd.google.colaboratory.intrinsic+json": {
              "type": "string"
            }
          },
          "metadata": {},
          "execution_count": 68
        }
      ]
    },
    {
      "cell_type": "markdown",
      "source": [
        "- contare il numero di parole in una stringa"
      ],
      "metadata": {
        "id": "Zelz77l-Dd4u"
      }
    },
    {
      "cell_type": "code",
      "source": [
        "s = \"una vera lunga stringa, anzi un po' corta\""
      ],
      "metadata": {
        "id": "yLzikfhSDaoE"
      },
      "execution_count": null,
      "outputs": []
    },
    {
      "cell_type": "code",
      "source": [
        "len(s.split())"
      ],
      "metadata": {
        "colab": {
          "base_uri": "https://localhost:8080/"
        },
        "id": "2W6XLEWkDlxl",
        "outputId": "08442f42-4b67-4878-e477-38df41b8d8ab"
      },
      "execution_count": null,
      "outputs": [
        {
          "output_type": "execute_result",
          "data": {
            "text/plain": [
              "8"
            ]
          },
          "metadata": {},
          "execution_count": 71
        }
      ]
    },
    {
      "cell_type": "markdown",
      "source": [
        "## Control flow:\n",
        "- for loops\n",
        "- while loops\n",
        "- beak, continue\n",
        "- ..."
      ],
      "metadata": {
        "id": "3IzRD-wJDrN0"
      }
    },
    {
      "cell_type": "markdown",
      "source": [
        "Data la seguente lista"
      ],
      "metadata": {
        "id": "vEa0sGIhy0Y-"
      }
    },
    {
      "cell_type": "code",
      "source": [
        "l = [1,2,3,4,5,'sei','sette',8,9]"
      ],
      "metadata": {
        "id": "u3X2OhuODnEk"
      },
      "execution_count": 1,
      "outputs": []
    },
    {
      "cell_type": "markdown",
      "source": [
        "1. rimuovere un elemento alla volta da `l` e contare gli elementi senza usare la funzione `len()`\n",
        "2. rimuovere gli elementi che non sono `int` e inserire il risultato in una lista dal nome `l2`\n",
        "3. fare la somma degli elmenti in l2\n",
        "4. rifare il punto 2, ma con la tecnica della `list comprehension` (i.e., in una singola riga)\n",
        "5. partendo da `l` trasformare `\"sei\"` in `6` e `\"sette\"` in `7` (cioe' in numeri interi) e inserire tutto in una lista `l3`\n",
        "6. filtrare i numeri pari di `l3`\n",
        "7. fare il print di ogni possibile combinazione di moltiplicazione di numeri di `l3` dispari"
      ],
      "metadata": {
        "id": "QTfCxj0Py73F"
      }
    },
    {
      "cell_type": "code",
      "source": [
        "# 1\n",
        "num = 0\n",
        "while l:\n",
        "  num+=1\n",
        "  l.pop()\n",
        "print(num)"
      ],
      "metadata": {
        "colab": {
          "base_uri": "https://localhost:8080/"
        },
        "id": "0Woyrx3ry6tk",
        "outputId": "e9358b64-5d56-444a-f2c4-3d1774e8726d"
      },
      "execution_count": 34,
      "outputs": [
        {
          "output_type": "stream",
          "name": "stdout",
          "text": [
            "9\n"
          ]
        }
      ]
    },
    {
      "cell_type": "code",
      "source": [
        "l = [1,2,3,4,5,'sei','sette',8,9]"
      ],
      "metadata": {
        "id": "X1HgFUlGz04O"
      },
      "execution_count": 81,
      "outputs": []
    },
    {
      "cell_type": "code",
      "source": [
        "# 2\n",
        "l2 = []\n",
        "for i in l:\n",
        "  if type(i)==int:\n",
        "    l2.append(i)\n",
        "l2"
      ],
      "metadata": {
        "colab": {
          "base_uri": "https://localhost:8080/"
        },
        "id": "O1zFydX-0GWg",
        "outputId": "80ac545e-345d-4cb8-e269-58be1c7bc59e"
      },
      "execution_count": 82,
      "outputs": [
        {
          "output_type": "execute_result",
          "data": {
            "text/plain": [
              "[1, 2, 3, 4, 5, 8, 9]"
            ]
          },
          "metadata": {},
          "execution_count": 82
        }
      ]
    },
    {
      "cell_type": "code",
      "source": [
        "# senza sum\n",
        "sum = 0\n",
        "for i in l2:\n",
        "  sum+=i\n",
        "sum"
      ],
      "metadata": {
        "colab": {
          "base_uri": "https://localhost:8080/"
        },
        "id": "wnm5_fax0hZN",
        "outputId": "3efb0399-728a-490b-8a91-12e49fe43256"
      },
      "execution_count": 77,
      "outputs": [
        {
          "output_type": "execute_result",
          "data": {
            "text/plain": [
              "32"
            ]
          },
          "metadata": {},
          "execution_count": 77
        }
      ]
    },
    {
      "cell_type": "code",
      "source": [
        "# 4\n",
        "l2 = [i for i in l if type(i)==int]\n",
        "l2"
      ],
      "metadata": {
        "colab": {
          "base_uri": "https://localhost:8080/"
        },
        "id": "PTdxTLCg0rLu",
        "outputId": "38cad664-02be-456e-e5c7-47913354d0ba"
      },
      "execution_count": 38,
      "outputs": [
        {
          "output_type": "execute_result",
          "data": {
            "text/plain": [
              "[1, 2, 3, 4, 5, 8, 9]"
            ]
          },
          "metadata": {},
          "execution_count": 38
        }
      ]
    },
    {
      "cell_type": "code",
      "source": [
        "# 5\n",
        "l3 = []\n",
        "for i in l:\n",
        "  if type(i)==int:\n",
        "    l3.append(i)\n",
        "  elif i == \"sei\":\n",
        "    l3.append(6)\n",
        "  elif i == \"sette\":\n",
        "    l3.append(7)\n",
        "l3"
      ],
      "metadata": {
        "colab": {
          "base_uri": "https://localhost:8080/"
        },
        "id": "m7zFe3Qp0sO4",
        "outputId": "19551249-b49a-4625-de44-e4d57f67f53f"
      },
      "execution_count": 39,
      "outputs": [
        {
          "output_type": "execute_result",
          "data": {
            "text/plain": [
              "[1, 2, 3, 4, 5, 6, 7, 8, 9]"
            ]
          },
          "metadata": {},
          "execution_count": 39
        }
      ]
    },
    {
      "cell_type": "code",
      "source": [
        "# 6\n",
        "[i for i in l3 if i%2==0]"
      ],
      "metadata": {
        "colab": {
          "base_uri": "https://localhost:8080/"
        },
        "id": "GAGALoof0zSn",
        "outputId": "a630f26d-e6cb-4fb6-9103-518b490d5aff"
      },
      "execution_count": 40,
      "outputs": [
        {
          "output_type": "execute_result",
          "data": {
            "text/plain": [
              "[2, 4, 6, 8]"
            ]
          },
          "metadata": {},
          "execution_count": 40
        }
      ]
    },
    {
      "cell_type": "code",
      "source": [
        "# 7\n",
        "for i in [i for i in l3 if i%2==1]:\n",
        "  for j in [i for i in l3 if i%2==1]:\n",
        "    print(\"prodotto i*j = {}\".format(i*j))"
      ],
      "metadata": {
        "colab": {
          "base_uri": "https://localhost:8080/"
        },
        "id": "8LyzD-9A1f_7",
        "outputId": "ed93ce1a-3037-4e72-8d05-ab9ab37f9e90"
      },
      "execution_count": 41,
      "outputs": [
        {
          "output_type": "stream",
          "name": "stdout",
          "text": [
            "prodotto i*j = 1\n",
            "prodotto i*j = 3\n",
            "prodotto i*j = 5\n",
            "prodotto i*j = 7\n",
            "prodotto i*j = 9\n",
            "prodotto i*j = 3\n",
            "prodotto i*j = 9\n",
            "prodotto i*j = 15\n",
            "prodotto i*j = 21\n",
            "prodotto i*j = 27\n",
            "prodotto i*j = 5\n",
            "prodotto i*j = 15\n",
            "prodotto i*j = 25\n",
            "prodotto i*j = 35\n",
            "prodotto i*j = 45\n",
            "prodotto i*j = 7\n",
            "prodotto i*j = 21\n",
            "prodotto i*j = 35\n",
            "prodotto i*j = 49\n",
            "prodotto i*j = 63\n",
            "prodotto i*j = 9\n",
            "prodotto i*j = 27\n",
            "prodotto i*j = 45\n",
            "prodotto i*j = 63\n",
            "prodotto i*j = 81\n"
          ]
        }
      ]
    },
    {
      "cell_type": "markdown",
      "source": [
        "## Funzioni"
      ],
      "metadata": {
        "id": "ImvpA2Eh3AuO"
      }
    },
    {
      "cell_type": "markdown",
      "source": [
        "- creare una funzione che prenda in input una lista e ritorni: il numero piu' alto se e' pari, altrimenti il mumero piu' alto - 1 "
      ],
      "metadata": {
        "id": "EPOuTEiM3CRw"
      }
    },
    {
      "cell_type": "code",
      "source": [
        "def massimo(l):\n",
        "  mm = max(l)\n",
        "  return mm if mm%2==0 else (mm-1)"
      ],
      "metadata": {
        "id": "KkAPLURV3BnX"
      },
      "execution_count": 47,
      "outputs": []
    },
    {
      "cell_type": "code",
      "source": [
        "assert massimo([1,4,77,3])==76"
      ],
      "metadata": {
        "id": "Pu2BzSCU3Ra0"
      },
      "execution_count": 58,
      "outputs": []
    },
    {
      "cell_type": "markdown",
      "source": [
        "- creare una funzione che prenda in input due liste della stessa dimensione `l1` e `l2` e ritorni una lista che abbia tutti gli elementi alternati di `l1` e `l2`\n",
        "  - se le due liste hanno lunghezza diversa, ritornare la lista vuota"
      ],
      "metadata": {
        "id": "3Ayno3-24chA"
      }
    },
    {
      "cell_type": "code",
      "source": [
        "def myZip(l1,l2):\n",
        "  if not len(l1)==len(l2):\n",
        "    return []\n",
        "  l = []\n",
        "  for i in range(0,len(l1)):\n",
        "    l.append(l1[i])\n",
        "    l.append(l2[i])\n",
        "  return l"
      ],
      "metadata": {
        "id": "FI4DEdDC3Tqg"
      },
      "execution_count": 59,
      "outputs": []
    },
    {
      "cell_type": "code",
      "source": [
        "assert myZip(range(0,5),range(10,15))==[0, 10, 1, 11, 2, 12, 3, 13, 4, 14]"
      ],
      "metadata": {
        "id": "zXsaSsvZ5LIm"
      },
      "execution_count": 60,
      "outputs": []
    },
    {
      "cell_type": "markdown",
      "source": [
        "- creare una funzinoe che prenda come input una lista `l` e una funzione `f` e applichi a ogni elemento di `l` la funzione `f`"
      ],
      "metadata": {
        "id": "dJigK-0D5VoO"
      }
    },
    {
      "cell_type": "code",
      "source": [
        "def myMap(l, f):\n",
        "  return [f(i) for i in l]  "
      ],
      "metadata": {
        "id": "4qTdUeD15Rlt"
      },
      "execution_count": 61,
      "outputs": []
    },
    {
      "cell_type": "code",
      "source": [
        "def addOne(a):\n",
        "  return a+1\n",
        "\n",
        "assert myMap(range(0,5), addOne)==[1, 2, 3, 4, 5]\n",
        "assert myMap(range(0,5), lambda x: x+3)==[3, 4, 5, 6, 7]"
      ],
      "metadata": {
        "id": "zQ1Ozf1n51h_"
      },
      "execution_count": 65,
      "outputs": []
    },
    {
      "cell_type": "markdown",
      "source": [
        "- creare una funzione che conti le parole in un testo `t`"
      ],
      "metadata": {
        "id": "5AHxOqIk6SYy"
      }
    },
    {
      "cell_type": "code",
      "source": [
        "def contaParole(t):\n",
        "  return len(t.split())"
      ],
      "metadata": {
        "id": "-ZuAHxbz6Aci"
      },
      "execution_count": 66,
      "outputs": []
    },
    {
      "cell_type": "code",
      "source": [
        "assert contaParole(\"creare una funzinoe che prenda come input una lista l e una funzione f e applichi a ogni elemento di l la funzione f\") == 24"
      ],
      "metadata": {
        "id": "M9YjafHM6aOE"
      },
      "execution_count": 68,
      "outputs": []
    },
    {
      "cell_type": "markdown",
      "source": [
        "- scrivere la funzione ricorsiva per il calcolo del fattoriale"
      ],
      "metadata": {
        "id": "kR03H6CW7BH8"
      }
    },
    {
      "cell_type": "code",
      "source": [
        "def factorial(x):\n",
        "    if x == 1:\n",
        "        return 1\n",
        "    else:\n",
        "        return (x * factorial(x-1))"
      ],
      "metadata": {
        "id": "zR8a9ZfK688B"
      },
      "execution_count": 74,
      "outputs": []
    },
    {
      "cell_type": "code",
      "source": [
        "assert factorial(5)==120"
      ],
      "metadata": {
        "id": "r6m-J4ye7jHc"
      },
      "execution_count": 75,
      "outputs": []
    },
    {
      "cell_type": "code",
      "source": [],
      "metadata": {
        "id": "QA4aOoV07oyf"
      },
      "execution_count": 75,
      "outputs": []
    }
  ]
}