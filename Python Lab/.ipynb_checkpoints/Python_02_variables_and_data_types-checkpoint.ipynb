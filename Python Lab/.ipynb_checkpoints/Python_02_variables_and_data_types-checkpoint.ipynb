{
 "cells": [
  {
   "cell_type": "markdown",
   "id": "06922fc4",
   "metadata": {},
   "source": [
    "# Variables and Data Types\n",
    "- [1. Representing Information](#1.-Representing-Information)\n",
    "- [2. Data Types](#2.-Data-Types)\n",
    "    - [2.1 Integers](#2.1-Integers)\n",
    "    - [2.2 Floating Point](#2.2-Floating-Point)\n",
    "    - [2.3 Boolean](#2.3-Boolean)\n",
    "- [3. Varible Binding](#3.-Varible-Binding)"
   ]
  },
  {
   "cell_type": "markdown",
   "id": "594146e9",
   "metadata": {},
   "source": [
    "# 1. Representing Information"
   ]
  },
  {
   "cell_type": "markdown",
   "id": "d208b00f",
   "metadata": {},
   "source": [
    "At the lowest level, a computer is an electronic machine.\n",
    "\n",
    "- works by controlling the flow of electrons\n",
    "\n",
    "Easy to recognize two conditions:\n",
    "\n",
    "1. presence of a voltage - we'll call this state \"1\"\n",
    "2. absence of a voltage - we'll call this state \"0\"\n",
    "\n",
    "Each element that can store a \"1\" or a \"0\" is called **bit**\n",
    "- a set of 8 bit is called **byte**"
   ]
  },
  {
   "cell_type": "markdown",
   "id": "13669b37",
   "metadata": {},
   "source": [
    "# 2. Data Types"
   ]
  },
  {
   "cell_type": "markdown",
   "id": "b571786a",
   "metadata": {},
   "source": [
    "\n",
    "Programs manipulate data objects, which are:\n",
    "- **scalar** (cannot be subdivided)\n",
    "    - integer\n",
    "    - float\n",
    "    - bool\n",
    "    - string\n",
    "- **non-scalar** (have internal structure that can be accessed)\n",
    "    - list\n",
    "    - dict\n",
    "    - other object in general"
   ]
  },
  {
   "cell_type": "markdown",
   "id": "78f390e7",
   "metadata": {},
   "source": [
    "## 2.1 Integers"
   ]
  },
  {
   "cell_type": "markdown",
   "id": "b9fd6ccb",
   "metadata": {},
   "source": [
    "There are two categories of integers (whole numbers):\n",
    "\n",
    "- Unsigned integers\n",
    " - Typically, each bit represents decreasing (from left to right) magnitudes of powers of 2\n",
    "- Signed integers\n",
    " - Signed magnitude\n",
    "\n",
    "Unsigned integers are all positive, and thus you can use all bits to represent positive numbers.\n",
    "\n",
    "Signed integers use a bit to represent whether the integer is positive or negative."
   ]
  },
  {
   "cell_type": "markdown",
   "id": "df2bed6f",
   "metadata": {},
   "source": [
    "### 2.1.1 Unsigned Integers\n",
    "#### NOTE: Python does not have UNSIGNED integer"
   ]
  },
  {
   "cell_type": "markdown",
   "id": "5dacf9db",
   "metadata": {
    "format": "row"
   },
   "source": [
    "<table align='left'>\n",
    "<tr><th>Number</th><th>Bits</th></tr>\n",
    "<tr><td>0</td><td>0000</td></tr>\n",
    "<tr><td>1</td><td>0001</td></tr>\n",
    "<tr><td>2</td><td>0010</td></tr>\n",
    "<tr><td>3</td><td>0011</td></tr>\n",
    "<tr><td>4</td><td>0100</td></tr>\n",
    "<tr><td>5</td><td>0101</td></tr>\n",
    "<tr><td>6</td><td>0110</td></tr>\n",
    "<tr><td>7</td><td>0111</td></tr>\n",
    "<tr><td>8</td><td>1000</td></tr>\n",
    "<tr><td>9</td><td>1001</td></tr>\n",
    "<tr><td>10</td><td>1010</td></tr>\n",
    "<tr><td>11</td><td>1011</td></tr>\n",
    "<tr><td>12</td><td>1100</td></tr>\n",
    "<tr><td>13</td><td>1101</td></tr>\n",
    "<tr><td>14</td><td>1110</td></tr>\n",
    "<tr><td>15</td><td>1111</td></tr>\n",
    "</table>"
   ]
  },
  {
   "cell_type": "markdown",
   "id": "5942154c",
   "metadata": {},
   "source": [
    "What is the largest **unsigned integer** using 16 bits? Using 32 bits? Using 64 bits?\n",
    "- remember the zero"
   ]
  },
  {
   "cell_type": "code",
   "execution_count": 83,
   "id": "f4bad381",
   "metadata": {},
   "outputs": [
    {
     "name": "stdout",
     "output_type": "stream",
     "text": [
      "65535\n",
      "4294967295\n",
      "18446744073709551615\n"
     ]
    }
   ],
   "source": [
    "print((2 ** 16) - 1)\n",
    "print((2 ** 32) - 1)\n",
    "print((2 ** 64) - 1)"
   ]
  },
  {
   "cell_type": "markdown",
   "id": "2075d38b",
   "metadata": {},
   "source": [
    "What is the largest **signed integer** using 16 bits? Using 32 bits? Using 64 bits?\n",
    "- remember the zero\n",
    "- remember one bit for the sign"
   ]
  },
  {
   "cell_type": "code",
   "execution_count": 84,
   "id": "c7b790d7",
   "metadata": {},
   "outputs": [
    {
     "name": "stdout",
     "output_type": "stream",
     "text": [
      "32767\n",
      "2147483647\n",
      "9223372036854775807\n"
     ]
    }
   ],
   "source": [
    "print((2 ** 15)-1)\n",
    "print((2 ** 31)-1)\n",
    "print((2 ** 63)-1)"
   ]
  },
  {
   "cell_type": "markdown",
   "id": "af8228e9",
   "metadata": {},
   "source": [
    "What if you don't know how maby bits your processor handle?"
   ]
  },
  {
   "cell_type": "code",
   "execution_count": 85,
   "id": "8ac80cae",
   "metadata": {},
   "outputs": [
    {
     "data": {
      "text/plain": [
       "9223372036854775807"
      ]
     },
     "execution_count": 85,
     "metadata": {},
     "output_type": "execute_result"
    }
   ],
   "source": [
    "# the highest number handled by the system\n",
    "import sys\n",
    "sys.maxsize"
   ]
  },
  {
   "cell_type": "markdown",
   "id": "f898c809",
   "metadata": {},
   "source": [
    "#### type()\n",
    "The `type` function returns the type of a variable/object"
   ]
  },
  {
   "cell_type": "code",
   "execution_count": 92,
   "id": "9a804e11",
   "metadata": {},
   "outputs": [
    {
     "name": "stdout",
     "output_type": "stream",
     "text": [
      "<class 'int'>\n",
      "<class 'int'>\n"
     ]
    }
   ],
   "source": [
    "a = 2\n",
    "print(type(2))\n",
    "print(type(a))"
   ]
  },
  {
   "cell_type": "code",
   "execution_count": 95,
   "id": "02f4a16f",
   "metadata": {},
   "outputs": [
    {
     "name": "stdout",
     "output_type": "stream",
     "text": [
      "<class 'str'>\n",
      "<class 'str'>\n",
      "<class 'float'>\n"
     ]
    }
   ],
   "source": [
    "print(type('Boris'))\n",
    "print(type('2.1'))\n",
    "print(type(2.1))"
   ]
  },
  {
   "cell_type": "markdown",
   "id": "b78de845",
   "metadata": {},
   "source": [
    "### 2.1.2 Signed integer\n",
    "The leftmost bit keeps track of the sign:\n",
    "- `0` poritive\n",
    "- `1` negative\n",
    "\n",
    "<table align=\"left\">\n",
    "<tr><th>Number</th><th>Bits</th></tr><tr><td>-7</td><td>1111</td></tr>\n",
    "<tr><td>-6</td><td>1110</td></tr>\n",
    "<tr><td>-5</td><td>1101</td></tr>\n",
    "<tr><td>-4</td><td>1100</td></tr>\n",
    "<tr><td>-3</td><td>1011</td></tr>\n",
    "<tr><td>-2</td><td>1010</td></tr>\n",
    "<tr><td>-1</td><td>1001</td></tr>\n",
    "<tr><td>-0</td><td>1000</td></tr>\n",
    "<tr><td>0</td><td>0000</td></tr>\n",
    "<tr><td>1</td><td>0001</td></tr>\n",
    "<tr><td>2</td><td>0010</td></tr>\n",
    "<tr><td>3</td><td>0011</td></tr>\n",
    "<tr><td>4</td><td>0100</td></tr>\n",
    "<tr><td>5</td><td>0101</td></tr>\n",
    "<tr><td>6</td><td>0110</td></tr>\n",
    "<tr><td>7</td><td>0111</td></tr>\n",
    "</table>"
   ]
  },
  {
   "cell_type": "markdown",
   "id": "718ba941",
   "metadata": {},
   "source": [
    "## 2.2 Floating Point"
   ]
  },
  {
   "cell_type": "markdown",
   "id": "fc81e8cd",
   "metadata": {},
   "source": [
    "Could be used just to indicate where a decimal place\n",
    "\n",
    "Used to represent really big numbers and really small numbers.\n",
    "\n",
    "Consider that we have 32 bits to use. The *IEEE Standard for Floating Point Arithmetic* defined the following representation:\n",
    "\n",
    "- *s*: 1 bit for the sign \n",
    "- *E*: 8 bits for exponent \n",
    "- *M*: 23 bits for precision \n",
    "\n",
    "$${\\displaystyle (-1)^{s}\\times 2^{E}\\times M}$$\n",
    "\n",
    "Special reppresentation for `0` and `∞`"
   ]
  },
  {
   "cell_type": "markdown",
   "id": "3f145091",
   "metadata": {},
   "source": [
    "### 2.2.1 Watch out to floating point errors\n",
    "Due to the approximation, it maight yield errors!\n",
    "\n",
    "1.2 - 1.0 = 0.2\n",
    "\n",
    "right?\n",
    "\n",
    "Try the cell below"
   ]
  },
  {
   "cell_type": "code",
   "execution_count": 96,
   "id": "deadcb26",
   "metadata": {},
   "outputs": [
    {
     "data": {
      "text/plain": [
       "3.3000000000000003"
      ]
     },
     "execution_count": 96,
     "metadata": {},
     "output_type": "execute_result"
    }
   ],
   "source": [
    "3.0 * 1.1"
   ]
  },
  {
   "cell_type": "markdown",
   "id": "172855cc",
   "metadata": {},
   "source": [
    "Imagine if that is a conversion function for a currency in you code...\n",
    "\n",
    "### Decimal\n",
    "The solution is to use Decimal\n",
    "- `from decimal import *`\n",
    "- make sure to pass a **string** otherwise a floating point number is converted!"
   ]
  },
  {
   "cell_type": "code",
   "execution_count": 97,
   "id": "03ad6b42",
   "metadata": {},
   "outputs": [],
   "source": [
    "from decimal import *"
   ]
  },
  {
   "cell_type": "code",
   "execution_count": 98,
   "id": "1ba82111",
   "metadata": {},
   "outputs": [
    {
     "name": "stdout",
     "output_type": "stream",
     "text": [
      "1.1\n",
      "1.100000000000000088817841970012523233890533447265625\n"
     ]
    }
   ],
   "source": [
    "a = Decimal('1.1')\n",
    "b = Decimal(1.1)\n",
    "\n",
    "print(a)\n",
    "print(b)"
   ]
  },
  {
   "cell_type": "markdown",
   "id": "05af637b",
   "metadata": {},
   "source": [
    "## 2.3 Boolean\n",
    "\n",
    "Boolean type is one of the built-in data types provided by Python:\n",
    "- represents one of the two values i.e. True or False.\n",
    "- it is used to represent the truth values of the expressions\n",
    "    - For example, 1==1 is True whereas 2<1 is False"
   ]
  },
  {
   "cell_type": "code",
   "execution_count": 99,
   "id": "9b3a9f36",
   "metadata": {},
   "outputs": [
    {
     "data": {
      "text/plain": [
       "bool"
      ]
     },
     "execution_count": 99,
     "metadata": {},
     "output_type": "execute_result"
    }
   ],
   "source": [
    "a = True\n",
    "type(a)\n",
    "\n",
    "b = False\n",
    "type(b)"
   ]
  },
  {
   "cell_type": "markdown",
   "id": "692b849d",
   "metadata": {},
   "source": [
    "#### Evaluate Variables and Expressions\n",
    "- `==` equality\n",
    "- `!=` inequality\n",
    "- `<` less than\n",
    "- `>` greater than\n",
    "- `<=` less or equal\n",
    "- `>=` greater or equal"
   ]
  },
  {
   "cell_type": "code",
   "execution_count": 106,
   "id": "27dbe070",
   "metadata": {},
   "outputs": [
    {
     "data": {
      "text/plain": [
       "False"
      ]
     },
     "execution_count": 106,
     "metadata": {},
     "output_type": "execute_result"
    }
   ],
   "source": [
    "# Returns False as x is not equal to y\n",
    "x = 5\n",
    "y = 10\n",
    "x==y"
   ]
  },
  {
   "cell_type": "code",
   "execution_count": 107,
   "id": "b7237098",
   "metadata": {},
   "outputs": [
    {
     "data": {
      "text/plain": [
       "bool"
      ]
     },
     "execution_count": 107,
     "metadata": {},
     "output_type": "execute_result"
    }
   ],
   "source": [
    "type(x==y)"
   ]
  },
  {
   "cell_type": "markdown",
   "id": "0e379489",
   "metadata": {},
   "source": [
    "We can also use the function `bool()` to \"transform\" something (or nothing) in a bool type"
   ]
  },
  {
   "cell_type": "code",
   "execution_count": 127,
   "id": "62093a0c",
   "metadata": {},
   "outputs": [
    {
     "data": {
      "text/plain": [
       "False"
      ]
     },
     "execution_count": 127,
     "metadata": {},
     "output_type": "execute_result"
    }
   ],
   "source": [
    "# check if a variable is empty\n",
    "a = None # insieme vuoto\n",
    "bool(a)"
   ]
  },
  {
   "cell_type": "code",
   "execution_count": 128,
   "id": "82ea6956",
   "metadata": {},
   "outputs": [
    {
     "data": {
      "text/plain": [
       "True"
      ]
     },
     "execution_count": 128,
     "metadata": {},
     "output_type": "execute_result"
    }
   ],
   "source": [
    "# check if a variable is empty\n",
    "b = 1\n",
    "bool(b)"
   ]
  },
  {
   "cell_type": "code",
   "execution_count": 129,
   "id": "18b6a69d",
   "metadata": {},
   "outputs": [
    {
     "data": {
      "text/plain": [
       "False"
      ]
     },
     "execution_count": 129,
     "metadata": {},
     "output_type": "execute_result"
    }
   ],
   "source": [
    "# check if a variable is empty\n",
    "s = 'ciao'\n",
    "bool(a)"
   ]
  },
  {
   "cell_type": "code",
   "execution_count": 130,
   "id": "6cb6dc66",
   "metadata": {},
   "outputs": [
    {
     "data": {
      "text/plain": [
       "(False, False, False)"
      ]
     },
     "execution_count": 130,
     "metadata": {},
     "output_type": "execute_result"
    }
   ],
   "source": [
    "a == b, a == s, b == s,"
   ]
  },
  {
   "cell_type": "markdown",
   "id": "db155565",
   "metadata": {},
   "source": [
    "What about numbers?"
   ]
  },
  {
   "cell_type": "code",
   "execution_count": 132,
   "id": "c8d7334f",
   "metadata": {},
   "outputs": [
    {
     "name": "stdout",
     "output_type": "stream",
     "text": [
      "False\n",
      "True\n",
      "True\n"
     ]
    }
   ],
   "source": [
    "var1 = 0\n",
    "print(bool(var1))\n",
    "\n",
    "var2 = 1\n",
    "print(bool(var2))\n",
    "\n",
    "var3 = -9.7\n",
    "print(bool(var3))"
   ]
  },
  {
   "cell_type": "code",
   "execution_count": 137,
   "id": "8d8a9d49",
   "metadata": {},
   "outputs": [
    {
     "name": "stdout",
     "output_type": "stream",
     "text": [
      "False\n",
      "False\n",
      "False\n"
     ]
    }
   ],
   "source": [
    "var1 = 0\n",
    "varN = None\n",
    "\n",
    "print(bool(var1))\n",
    "print(bool(varN))\n",
    "print(var1 == varN)"
   ]
  },
  {
   "cell_type": "markdown",
   "id": "17e206b5",
   "metadata": {},
   "source": [
    "#### we can combine expressions\n",
    "- `or`\n",
    "- `and`\n",
    "- `not`"
   ]
  },
  {
   "cell_type": "code",
   "execution_count": 141,
   "id": "1c11bb48",
   "metadata": {},
   "outputs": [],
   "source": [
    "a = 1\n",
    "b = 2\n",
    "c = 4"
   ]
  },
  {
   "cell_type": "code",
   "execution_count": 143,
   "id": "05e57f0c",
   "metadata": {},
   "outputs": [
    {
     "data": {
      "text/plain": [
       "True"
      ]
     },
     "execution_count": 143,
     "metadata": {},
     "output_type": "execute_result"
    }
   ],
   "source": [
    "(a < b) or (a > b)"
   ]
  },
  {
   "cell_type": "code",
   "execution_count": 144,
   "id": "82d7a065",
   "metadata": {},
   "outputs": [
    {
     "data": {
      "text/plain": [
       "False"
      ]
     },
     "execution_count": 144,
     "metadata": {},
     "output_type": "execute_result"
    }
   ],
   "source": [
    "(a < b) and (a > b)"
   ]
  },
  {
   "cell_type": "code",
   "execution_count": 145,
   "id": "00261206",
   "metadata": {},
   "outputs": [
    {
     "data": {
      "text/plain": [
       "False"
      ]
     },
     "execution_count": 145,
     "metadata": {},
     "output_type": "execute_result"
    }
   ],
   "source": [
    "not (a < b)"
   ]
  },
  {
   "cell_type": "code",
   "execution_count": 147,
   "id": "d752d796",
   "metadata": {},
   "outputs": [
    {
     "data": {
      "text/plain": [
       "False"
      ]
     },
     "execution_count": 147,
     "metadata": {},
     "output_type": "execute_result"
    }
   ],
   "source": [
    "not (1==1)"
   ]
  },
  {
   "cell_type": "code",
   "execution_count": 148,
   "id": "6cd0e8f9",
   "metadata": {},
   "outputs": [
    {
     "data": {
      "text/plain": [
       "True"
      ]
     },
     "execution_count": 148,
     "metadata": {},
     "output_type": "execute_result"
    }
   ],
   "source": [
    "not (1!=1)"
   ]
  },
  {
   "cell_type": "markdown",
   "id": "f00f4f19",
   "metadata": {},
   "source": [
    "## 3. Varible Binding"
   ]
  },
  {
   "cell_type": "markdown",
   "id": "31890ee6",
   "metadata": {},
   "source": [
    "### Biding\n",
    "- the name of the variable followed by an assinemnt\n",
    "    - e.g., `variable_name = 'Hello, World!'`\n",
    "    \n",
    "### Mutation\n",
    "- Mutation doesn't attach the variable name to a new value as in binding\n",
    "- Instead we are going to be modifying the value that the variable is already attached to\n",
    "- only **non-scalar**\n",
    "\n",
    "### Re-binding\n",
    "- assign the same piece of data of `variable_name` to another variable\n",
    "    - e.g., `x = variable_name`\n",
    "- For scalar:\n",
    "    - create a \"new\" data\n",
    "- For non-scalar:\n",
    "    - the two variable referes to the same data"
   ]
  },
  {
   "cell_type": "markdown",
   "id": "c003b756",
   "metadata": {},
   "source": [
    "#### Scalar re-binding"
   ]
  },
  {
   "cell_type": "code",
   "execution_count": 152,
   "id": "2ec19d59",
   "metadata": {},
   "outputs": [
    {
     "name": "stdout",
     "output_type": "stream",
     "text": [
      "1\n",
      "2\n"
     ]
    }
   ],
   "source": [
    "a = 1\n",
    "b = a\n",
    "b = 2\n",
    "\n",
    "print(a)\n",
    "print(b)"
   ]
  },
  {
   "cell_type": "markdown",
   "id": "20e60a9a",
   "metadata": {},
   "source": [
    "#### Non-scalar re-biding"
   ]
  },
  {
   "cell_type": "code",
   "execution_count": 159,
   "id": "c087388a",
   "metadata": {},
   "outputs": [
    {
     "name": "stdout",
     "output_type": "stream",
     "text": [
      "[2, 2, 2]\n",
      "[2, 2, 2]\n"
     ]
    }
   ],
   "source": [
    "a = [1,2,3]\n",
    "b = a\n",
    "b[0] = b[1] = b[2] = 2\n",
    "\n",
    "print(a)\n",
    "print(b)"
   ]
  },
  {
   "cell_type": "code",
   "execution_count": 161,
   "id": "c04c5ac2",
   "metadata": {},
   "outputs": [
    {
     "name": "stdout",
     "output_type": "stream",
     "text": [
      "[1, 2, 3]\n",
      "[2, 2, 2]\n"
     ]
    }
   ],
   "source": [
    "a = [1,2,3]\n",
    "b = a\n",
    "b = [2,2,2]\n",
    "\n",
    "print(a)\n",
    "print(b)"
   ]
  },
  {
   "cell_type": "code",
   "execution_count": 162,
   "id": "80d2ec9f",
   "metadata": {},
   "outputs": [
    {
     "name": "stdout",
     "output_type": "stream",
     "text": [
      "[1, 2, 3, 4, 5]\n",
      "[1, 2, 3, 4, 5]\n"
     ]
    }
   ],
   "source": [
    "a = [1,2,3]\n",
    "b = a\n",
    "b.append(4)\n",
    "b.append(5)\n",
    "\n",
    "print(a)\n",
    "print(b)"
   ]
  },
  {
   "cell_type": "code",
   "execution_count": 167,
   "id": "61b0039c",
   "metadata": {},
   "outputs": [
    {
     "data": {
      "text/plain": [
       "[1, 1, 1]"
      ]
     },
     "execution_count": 167,
     "metadata": {},
     "output_type": "execute_result"
    }
   ],
   "source": [
    "x = [1, 1, 1]\n",
    "for value in x:\n",
    "    value = value + 5\n",
    "x"
   ]
  }
 ],
 "metadata": {
  "kernelspec": {
   "display_name": "Python 3 (ipykernel)",
   "language": "python",
   "name": "python3"
  },
  "language_info": {
   "codemirror_mode": {
    "name": "ipython",
    "version": 3
   },
   "file_extension": ".py",
   "mimetype": "text/x-python",
   "name": "python",
   "nbconvert_exporter": "python",
   "pygments_lexer": "ipython3",
   "version": "3.9.13"
  }
 },
 "nbformat": 4,
 "nbformat_minor": 5
}
