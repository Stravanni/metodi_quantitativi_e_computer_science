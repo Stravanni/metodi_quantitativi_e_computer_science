{
 "cells": [
  {
   "cell_type": "markdown",
   "id": "c84039b6",
   "metadata": {},
   "source": [
    "# Exercize 01\n",
    "\n",
    "- ask the user to give you her personal information:\n",
    "    - name\n",
    "    - surname\n",
    "    - age\n",
    "    \n",
    "1. print out a greeting string with the user's name"
   ]
  },
  {
   "cell_type": "code",
   "execution_count": null,
   "id": "9ea652d2",
   "metadata": {},
   "outputs": [],
   "source": []
  },
  {
   "cell_type": "markdown",
   "id": "4929bb7d",
   "metadata": {},
   "source": [
    "2. print out a boolean answering the question \"is the user at least 18 years old?\""
   ]
  },
  {
   "cell_type": "code",
   "execution_count": null,
   "id": "dd1b4376",
   "metadata": {},
   "outputs": [],
   "source": []
  }
 ],
 "metadata": {
  "kernelspec": {
   "display_name": "Python 3 (ipykernel)",
   "language": "python",
   "name": "python3"
  },
  "language_info": {
   "codemirror_mode": {
    "name": "ipython",
    "version": 3
   },
   "file_extension": ".py",
   "mimetype": "text/x-python",
   "name": "python",
   "nbconvert_exporter": "python",
   "pygments_lexer": "ipython3",
   "version": "3.9.13"
  }
 },
 "nbformat": 4,
 "nbformat_minor": 5
}
