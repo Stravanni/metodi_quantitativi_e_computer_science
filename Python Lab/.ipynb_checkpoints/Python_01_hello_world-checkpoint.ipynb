{
 "cells": [
  {
   "cell_type": "markdown",
   "id": "a29820f1",
   "metadata": {},
   "source": [
    "# HELLO, WORLD!\n",
    "## Your First Python Lab\n",
    "It is common in CS to call the first program you write \"hello world\".\n",
    "- It literally means to print the first string as output in your favorite programming language (🐍)\n",
    "- but oftentime is a way of saying to refer to the first program that you should write to approach a new software library/framework\n",
    "\n",
    "### print()\n",
    "So, all you need to know in Python, to print is the function `print()` [doc](https://docs.python.org/3/library/functions.html#print)\n",
    "- it allows to print a piece of text through the consolle (a.k.a. *std-out*)"
   ]
  },
  {
   "cell_type": "code",
   "execution_count": 5,
   "id": "38db06e0",
   "metadata": {},
   "outputs": [
    {
     "name": "stdout",
     "output_type": "stream",
     "text": [
      "Hello, World!\n"
     ]
    }
   ],
   "source": [
    "print('Hello, World!')"
   ]
  },
  {
   "cell_type": "markdown",
   "id": "8aafcde2",
   "metadata": {},
   "source": [
    "### Built-in Functions\n",
    "The print function is a *built-in function* [doc](https://docs.python.org/3/library/functions.html#input)\n",
    "- these functions are pre-installed Python functions that are always accessibel, from any program, anywhere\n",
    "\n",
    "### input()\n",
    "The input function [doc]()https://docs.python.org/3/library/functions.html#input allows to:\n",
    "- print a massage\n",
    "- wait for an input (from the user) through the keyboard (a.k.a. *std-in*)\n"
   ]
  },
  {
   "cell_type": "code",
   "execution_count": 12,
   "id": "429d6597",
   "metadata": {},
   "outputs": [
    {
     "name": "stdout",
     "output_type": "stream",
     "text": [
      "insert your name here: Giovanni\n"
     ]
    },
    {
     "data": {
      "text/plain": [
       "'Giovanni'"
      ]
     },
     "execution_count": 12,
     "metadata": {},
     "output_type": "execute_result"
    }
   ],
   "source": [
    "input('insert your name here: ')"
   ]
  },
  {
   "cell_type": "markdown",
   "id": "c32afd8a",
   "metadata": {},
   "source": [
    "We can observe that the cell above has printed the text (a.k.a. `String`) that we passed as `Out[...]:`\n",
    "\n",
    "### your first variable\n",
    "What about if we want to store that value somewhere, to not forget it?\n",
    "\n",
    "We need something to store the value, something that:\n",
    "- allows to keep track of a \"piece of memory\" with that particular piece of data\n",
    "- (OPTIONAL) allows to access to taht particular piece of data if we need to modify it \n",
    "- has a convenient handler to use it when neede (e.g., a *name*)\n",
    "\n",
    "What we are describing is a **variable**\n",
    "\n",
    "To declare a variable, in Python we just need to:\n",
    "1. state a *variable name*\n",
    "2. use the `=` sybol to assign a value\n",
    "3. pass the actual value to store"
   ]
  },
  {
   "cell_type": "code",
   "execution_count": 16,
   "id": "76e7ead1",
   "metadata": {},
   "outputs": [],
   "source": [
    "my_first_variable = 'Ciao'"
   ]
  },
  {
   "cell_type": "markdown",
   "id": "66077429",
   "metadata": {},
   "source": [
    "Now we can access to the *string* 'Ciao' with the name `my_first_variable`:"
   ]
  },
  {
   "cell_type": "code",
   "execution_count": 21,
   "id": "30cc062a",
   "metadata": {},
   "outputs": [
    {
     "name": "stdout",
     "output_type": "stream",
     "text": [
      "Ciao!\n",
      "my_first_variable\n",
      "Ciao!\n"
     ]
    }
   ],
   "source": [
    "print(my_first_variable)\n",
    "print('my_first_variable')\n",
    "print(my_first_variable)"
   ]
  },
  {
   "cell_type": "markdown",
   "id": "82592c13",
   "metadata": {},
   "source": [
    "We can modify the content (the piece of data) of the variable:"
   ]
  },
  {
   "cell_type": "code",
   "execution_count": 22,
   "id": "9d60f85f",
   "metadata": {},
   "outputs": [
    {
     "name": "stdout",
     "output_type": "stream",
     "text": [
      "Hello\n"
     ]
    }
   ],
   "source": [
    "my_first_variable = 'Hello'\n",
    "print(my_first_variable)"
   ]
  },
  {
   "cell_type": "markdown",
   "id": "fb81082d",
   "metadata": {},
   "source": [
    "Now that we know that, we can use a variable to store the input of the user:"
   ]
  },
  {
   "cell_type": "code",
   "execution_count": 23,
   "id": "e713639f",
   "metadata": {},
   "outputs": [
    {
     "name": "stdout",
     "output_type": "stream",
     "text": [
      "insert your name here: Giovanni\n"
     ]
    }
   ],
   "source": [
    "name = input('insert your name here: ')"
   ]
  },
  {
   "cell_type": "markdown",
   "id": "4d2f51f7",
   "metadata": {},
   "source": [
    "and use that variable wherever you want.\n",
    "\n",
    "For instance revisiting the \"Hello, World!\":"
   ]
  },
  {
   "cell_type": "code",
   "execution_count": 25,
   "id": "af2e0136",
   "metadata": {},
   "outputs": [
    {
     "name": "stdout",
     "output_type": "stream",
     "text": [
      "insert your name here: Giovanni\n",
      "Hello, Giovanni!\n"
     ]
    }
   ],
   "source": [
    "name = input('insert your name here: ')\n",
    "print(\"Hello, \"+name+'!')"
   ]
  },
  {
   "cell_type": "markdown",
   "id": "bd28ebb6",
   "metadata": {},
   "source": [
    "### string concatenation\n",
    "the `+` operator assumes a particular functionality on the basis of the contest:\n",
    "- if it is employed with *strings*, it concatenates the stirngs\n",
    "- if employed with \"number\", it perform the arithmetic sum"
   ]
  },
  {
   "cell_type": "code",
   "execution_count": 32,
   "id": "9afba093",
   "metadata": {},
   "outputs": [
    {
     "name": "stdout",
     "output_type": "stream",
     "text": [
      "Ciao, Giovanni!\n",
      "\n",
      "23\n",
      "\n",
      "2.3\n"
     ]
    }
   ],
   "source": [
    "print('Ciao, '+'Giovanni!')\n",
    "print()\n",
    "print(11+12)\n",
    "print()\n",
    "print(1.1+1.2)"
   ]
  },
  {
   "cell_type": "markdown",
   "id": "cb4eb281",
   "metadata": {},
   "source": [
    "We'll se more on *stirngs*..."
   ]
  },
  {
   "cell_type": "code",
   "execution_count": null,
   "id": "3aa51a5a",
   "metadata": {},
   "outputs": [],
   "source": []
  }
 ],
 "metadata": {
  "kernelspec": {
   "display_name": "Python 3 (ipykernel)",
   "language": "python",
   "name": "python3"
  },
  "language_info": {
   "codemirror_mode": {
    "name": "ipython",
    "version": 3
   },
   "file_extension": ".py",
   "mimetype": "text/x-python",
   "name": "python",
   "nbconvert_exporter": "python",
   "pygments_lexer": "ipython3",
   "version": "3.9.13"
  },
  "vscode": {
   "interpreter": {
    "hash": "b0fa6594d8f4cbf19f97940f81e996739fb7646882a419484c72d19e05852a7e"
   }
  }
 },
 "nbformat": 4,
 "nbformat_minor": 5
}
